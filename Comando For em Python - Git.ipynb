{
 "cells": [
  {
   "cell_type": "code",
   "execution_count": 1,
   "metadata": {},
   "outputs": [
    {
     "name": "stdout",
     "output_type": "stream",
     "text": [
      "[['Gabriel', 'CPF0000000']]\n",
      "[['Gabriel', 'CPF0000000'], ['Lemos', 'CPF222111']]\n"
     ]
    }
   ],
   "source": [
    "#Adicionando hóspedes e CPF em uma lista \n",
    "\n",
    "qnt_de_pessoas = int(input(\"Quantas pessoas?\"))\n",
    "\n",
    "quarto = []\n",
    "\n",
    "for i in range(qnt_de_pessoas):\n",
    "  nome = input(\"Qual o nome?\")\n",
    "  cpf = input('Qual o CPF?')\n",
    "  hospede = [nome, 'CPF' + cpf]\n",
    "  quarto.append(hospede)\n",
    "  print(quarto)\n"
   ]
  },
  {
   "cell_type": "code",
   "execution_count": null,
   "metadata": {},
   "outputs": [],
   "source": []
  },
  {
   "cell_type": "code",
   "execution_count": 11,
   "metadata": {},
   "outputs": [
    {
     "name": "stdout",
     "output_type": "stream",
     "text": [
      "O vendedor João bateu a meta de vendas vendendo 5000 vendas\n",
      "O vendedor Marley bateu a meta de vendas vendendo 9000 vendas\n",
      "O vendedor Mateus bateu a meta de vendas vendendo 4000 vendas\n"
     ]
    }
   ],
   "source": [
    "#Verificando quais vendedores bateram a meta\n",
    "\n",
    "meta = 1000\n",
    "vendas = [['João', 5000],['Gabriel', 500],['Luzinete',800],['Marley', 9000],['Felipe',450],['Mateus',4000]]\n",
    "\n",
    "for item in vendas:\n",
    "  if item[1] >= meta:\n",
    "    print('O vendedor {} bateu a meta de vendas vendendo {} vendas'.format(item[0], item[1]))"
   ]
  },
  {
   "cell_type": "code",
   "execution_count": 4,
   "metadata": {},
   "outputs": [
    {
     "ename": "TypeError",
     "evalue": "'float' object is not subscriptable",
     "output_type": "error",
     "traceback": [
      "\u001b[1;31m---------------------------------------------------------------------------\u001b[0m",
      "\u001b[1;31mTypeError\u001b[0m                                 Traceback (most recent call last)",
      "Cell \u001b[1;32mIn[4], line 12\u001b[0m\n\u001b[0;32m     10\u001b[0m \u001b[38;5;28;01mif\u001b[39;00m vendas_2020[i] \u001b[38;5;241m>\u001b[39m vendas_2019[i]:\n\u001b[0;32m     11\u001b[0m   crescimento \u001b[38;5;241m=\u001b[39m vendas_2020[i] \u001b[38;5;241m/\u001b[39m vendas_2020[i] \u001b[38;5;241m-\u001b[39m\u001b[38;5;241m1\u001b[39m\n\u001b[1;32m---> 12\u001b[0m   \u001b[38;5;28mprint\u001b[39m(\u001b[38;5;124m'\u001b[39m\u001b[38;5;132;01m{}\u001b[39;00m\u001b[38;5;124m vendas de 2020 foram de \u001b[39m\u001b[38;5;132;01m{}\u001b[39;00m\u001b[38;5;124m, e de 2019 de \u001b[39m\u001b[38;5;132;01m{}\u001b[39;00m\u001b[38;5;124m. Um aumento de \u001b[39m\u001b[38;5;132;01m{:.1%}\u001b[39;00m\u001b[38;5;124m'\u001b[39m\u001b[38;5;241m.\u001b[39mformat(produto, vendas_2020[i], vendas_2019[i], \u001b[43mcrescimento\u001b[49m\u001b[43m[\u001b[49m\u001b[43mi\u001b[49m\u001b[43m]\u001b[49m))\n",
      "\u001b[1;31mTypeError\u001b[0m: 'float' object is not subscriptable"
     ]
    }
   ],
   "source": [
    "#Comparação com o ano anterior de vendas\n",
    "\n",
    "produtos = ['iphone','galaxy','motorolo','tv','celulares','ipad','ipod']\n",
    "\n",
    "vendas_2019 = [4798, 504, 8741, 20, 9489, 8715, 46547]\n",
    "\n",
    "vendas_2020 = [1, 5849898, 4451, 50, 79414, 64564, 5426]\n",
    "\n",
    "for i, produto in enumerate(produtos):\n",
    "  if vendas_2020[i] > vendas_2019[i]:\n",
    "    crescimento = vendas_2020[i] / vendas_2020[i] -1\n",
    "    print('{} vendas de 2020 foram de {}, e de 2019 de {}. Um aumento de {:.1%}'.format(produto, vendas_2020[i], vendas_2019[i], crescimento))"
   ]
  }
 ],
 "metadata": {
  "kernelspec": {
   "display_name": "Python 3",
   "language": "python",
   "name": "python3"
  },
  "language_info": {
   "codemirror_mode": {
    "name": "ipython",
    "version": 3
   },
   "file_extension": ".py",
   "mimetype": "text/x-python",
   "name": "python",
   "nbconvert_exporter": "python",
   "pygments_lexer": "ipython3",
   "version": "3.12.1"
  }
 },
 "nbformat": 4,
 "nbformat_minor": 2
}
